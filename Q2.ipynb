{
 "cells": [
  {
   "cell_type": "markdown",
   "id": "043cb7d5-6eee-4f36-b6ec-a2d2685cd2ae",
   "metadata": {},
   "source": [
    "### Q2. Row Echelon Form:"
   ]
  },
  {
   "cell_type": "markdown",
   "id": "19e938db-7587-487b-88ad-38ea3ba2d897",
   "metadata": {},
   "source": [
    "###### Create a 5x5 matrix, A, with entries randomly chosen integers between 0 and 9. To generate the random matrix, set the random seed as the last two digits of your roll number. Reduce matrix A to its Row Echelon Form by performing elementary row operations"
   ]
  },
  {
   "cell_type": "code",
   "execution_count": 3,
   "id": "6f8f3591-496e-4fc2-acf2-1d6dc9a8d256",
   "metadata": {},
   "outputs": [],
   "source": [
    "import numpy as np\n",
    "import sympy as sp\n"
   ]
  },
  {
   "cell_type": "code",
   "execution_count": 5,
   "id": "5b6fe3fd-9cf1-4193-ba97-7aac3fa6db10",
   "metadata": {},
   "outputs": [
    {
     "name": "stdout",
     "output_type": "stream",
     "text": [
      "Random Matrix A:\n"
     ]
    },
    {
     "data": {
      "text/latex": [
       "$\\displaystyle \\left[\\begin{matrix}5 & 4 & 0 & 4 & 6\\\\6 & 4 & 8 & 4 & 2\\\\8 & 7 & 2 & 9 & 8\\\\8 & 5 & 4 & 2 & 2\\\\1 & 6 & 9 & 3 & 3\\end{matrix}\\right]$"
      ],
      "text/plain": [
       "Matrix([\n",
       "[5, 4, 0, 4, 6],\n",
       "[6, 4, 8, 4, 2],\n",
       "[8, 7, 2, 9, 8],\n",
       "[8, 5, 4, 2, 2],\n",
       "[1, 6, 9, 3, 3]])"
      ]
     },
     "execution_count": 5,
     "metadata": {},
     "output_type": "execute_result"
    }
   ],
   "source": [
    "Roll_number = 22 \n",
    "np.random.seed(Roll_number)\n",
    "A = np.random.randint(0, 10, size=(5, 5))\n",
    "print(\"Random Matrix A:\")\n",
    "sp.Matrix(A)"
   ]
  },
  {
   "cell_type": "code",
   "execution_count": 6,
   "id": "9ad3e17c-8dda-401e-87a1-65b304efa994",
   "metadata": {},
   "outputs": [
    {
     "name": "stdout",
     "output_type": "stream",
     "text": [
      "\n",
      "Row Echelon Form of Matrix A:\n"
     ]
    },
    {
     "data": {
      "text/latex": [
       "$\\displaystyle \\left[\\begin{matrix}1 & 0 & 0 & 0 & 0\\\\0 & 1 & 0 & 0 & 0\\\\0 & 0 & 1 & 0 & 0\\\\0 & 0 & 0 & 1 & 0\\\\0 & 0 & 0 & 0 & 1\\end{matrix}\\right]$"
      ],
      "text/plain": [
       "Matrix([\n",
       "[1, 0, 0, 0, 0],\n",
       "[0, 1, 0, 0, 0],\n",
       "[0, 0, 1, 0, 0],\n",
       "[0, 0, 0, 1, 0],\n",
       "[0, 0, 0, 0, 1]])"
      ]
     },
     "execution_count": 6,
     "metadata": {},
     "output_type": "execute_result"
    }
   ],
   "source": [
    "rows, cols = A.shape\n",
    "lead = 0\n",
    "row = 0\n",
    "while lead < cols and row < rows:\n",
    "    if A[row, lead] == 0:\n",
    "        non_zero_row = row + 1\n",
    "        while non_zero_row < rows and A[non_zero_row, lead] == 0:\n",
    "            non_zero_row += 1\n",
    "        if non_zero_row == rows:\n",
    "            lead += 1\n",
    "            row = 0\n",
    "            continue\n",
    "        else:\n",
    "            A[[row, non_zero_row]] = A[[non_zero_row, row]]\n",
    "        \n",
    "    A[row] = A[row] / A[row, lead]  \n",
    "    for i in range(rows):\n",
    "        if i != row:\n",
    "            factor = A[i, lead]\n",
    "            A[i] = A[i] - factor * A[row]\n",
    "    lead += 1\n",
    "    row += 1    \n",
    "    \n",
    "print(\"\\nRow Echelon Form of Matrix A:\")\n",
    "sp.Matrix(A)"
   ]
  },
  {
   "cell_type": "code",
   "execution_count": null,
   "id": "32f5903e-fb34-4875-9dfa-d5cac89f9740",
   "metadata": {},
   "outputs": [],
   "source": []
  }
 ],
 "metadata": {
  "kernelspec": {
   "display_name": "Python 3 (ipykernel)",
   "language": "python",
   "name": "python3"
  },
  "language_info": {
   "codemirror_mode": {
    "name": "ipython",
    "version": 3
   },
   "file_extension": ".py",
   "mimetype": "text/x-python",
   "name": "python",
   "nbconvert_exporter": "python",
   "pygments_lexer": "ipython3",
   "version": "3.11.7"
  }
 },
 "nbformat": 4,
 "nbformat_minor": 5
}
