{
 "cells": [
  {
   "cell_type": "markdown",
   "id": "5aec819b-683a-46cd-8294-8c1f54f150c5",
   "metadata": {},
   "source": [
    "### Q3. Singular Value Decomposition (SVD):"
   ]
  },
  {
   "cell_type": "markdown",
   "id": "a96f655b-af7b-4a66-b2c4-d10dc4f8f88e",
   "metadata": {},
   "source": [
    "###### Perform Singular Value Decomposition on the matrix A obtained in Question 2. Separate and print matrices U, Σ, and .Verify that A equals the product of U, Σ, and 𝑉𝑉.Additionally, find the rank 2 and rank 3 approximations of matrix A\n"
   ]
  },
  {
   "cell_type": "code",
   "execution_count": 1,
   "id": "19b65839-8f19-494d-9f3c-4d6b3c679476",
   "metadata": {},
   "outputs": [],
   "source": [
    "import numpy as np\n",
    "import sympy as sp"
   ]
  },
  {
   "cell_type": "code",
   "execution_count": 2,
   "id": "19fe8318-9c3f-44e5-8942-5f77eeefaa30",
   "metadata": {},
   "outputs": [
    {
     "name": "stdout",
     "output_type": "stream",
     "text": [
      "Matrix A:\n"
     ]
    },
    {
     "data": {
      "text/latex": [
       "$\\displaystyle \\left[\\begin{matrix}5 & 5 & 4 & 7 & 2\\\\5 & 1 & 3 & 9 & 7\\\\7 & 1 & 1 & 3 & 2\\\\2 & 4 & 4 & 6 & 0\\\\6 & 0 & 7 & 4 & 2\\end{matrix}\\right]$"
      ],
      "text/plain": [
       "Matrix([\n",
       "[5, 5, 4, 7, 2],\n",
       "[5, 1, 3, 9, 7],\n",
       "[7, 1, 1, 3, 2],\n",
       "[2, 4, 4, 6, 0],\n",
       "[6, 0, 7, 4, 2]])"
      ]
     },
     "execution_count": 2,
     "metadata": {},
     "output_type": "execute_result"
    }
   ],
   "source": [
    "matrix_A = np.array([[5,5,4,7,2],\n",
    "                    [5,1,3,9,7],\n",
    "                    [7,1,1,3,2],\n",
    "                    [2,4,4,6,0],\n",
    "                    [6,0,7,4,2]])\n",
    "print(\"Matrix A:\")\n",
    "sp.Matrix(matrix_A)"
   ]
  },
  {
   "cell_type": "code",
   "execution_count": 3,
   "id": "ea05f589-2545-42ea-a68b-943390059a71",
   "metadata": {},
   "outputs": [
    {
     "name": "stdout",
     "output_type": "stream",
     "text": [
      "\n",
      "Rank 2 Approximation of Matrix A:\n"
     ]
    },
    {
     "data": {
      "text/latex": [
       "$\\displaystyle \\left[\\begin{matrix}4.44426552383022 & 4.07595662432027 & 4.93195369758656 & 7.2622265530003 & 1.85760781841946\\\\7.36028374084743 & 1.02882305752662 & 4.17747833334852 & 7.20039830421984 & 5.19910179368338\\\\4.56648708730857 & -0.0174263709492994 & 2.13445950325304 & 3.91409876855763 & 3.46891565492317\\\\2.24645608255317 & 4.33107531235087 & 4.07674140517855 & 5.58655475956974 & 0.0965128705334975\\\\5.1578753574221 & 1.51164305670478 & 3.47891545825589 & 5.71286438937133 & 3.35004312283507\\end{matrix}\\right]$"
      ],
      "text/plain": [
       "Matrix([\n",
       "[4.44426552383022,    4.07595662432027, 4.93195369758656,  7.2622265530003,   1.85760781841946],\n",
       "[7.36028374084743,    1.02882305752662, 4.17747833334852, 7.20039830421984,   5.19910179368338],\n",
       "[4.56648708730857, -0.0174263709492994, 2.13445950325304, 3.91409876855763,   3.46891565492317],\n",
       "[2.24645608255317,    4.33107531235087, 4.07674140517855, 5.58655475956974, 0.0965128705334975],\n",
       "[ 5.1578753574221,    1.51164305670478, 3.47891545825589, 5.71286438937133,   3.35004312283507]])"
      ]
     },
     "execution_count": 3,
     "metadata": {},
     "output_type": "execute_result"
    }
   ],
   "source": [
    "U, Sigma, Vt = np.linalg.svd(matrix_A)\n",
    "Sigma_matrix = np.diag(Sigma)\n",
    "rank2approximation = U[:, :2] @ Sigma_matrix[:2, :2] @ Vt[:2, :]\n",
    "rank3approximation = U[:, :3] @ Sigma_matrix[:3, :3] @ Vt[:3, :]\n",
    "print(\"\\nRank 2 Approximation of Matrix A:\")\n",
    "sp.Matrix(rank2approximation)"
   ]
  },
  {
   "cell_type": "code",
   "execution_count": 4,
   "id": "e4dfdbfa-2ba5-4787-a5b1-f3d60f8dc9dc",
   "metadata": {},
   "outputs": [
    {
     "name": "stdout",
     "output_type": "stream",
     "text": [
      "\n",
      "Rank 3 Approximation of Matrix A:\n"
     ]
    },
    {
     "data": {
      "text/latex": [
       "$\\displaystyle \\left[\\begin{matrix}4.28998455200343 & 4.12218566613625 & 4.76258870707172 & 7.40957784302032 & 1.99888622630183\\\\5.62701474289532 & 1.5481830540052 & 2.27474798415537 & 8.85581581796674 & 6.78629353588652\\\\5.33310295581208 & -0.24713659783089 & 2.97602724657398 & 3.18191620685691 & 2.76690899734821\\\\2.11347445931426 & 4.37092217712413 & 3.93075819615526 & 5.71356338222223 & 0.218287006296002\\\\7.14338536503089 & 0.916701087640397 & 5.65854836842021 & 3.81653551935819 & 1.53186885683147\\end{matrix}\\right]$"
      ],
      "text/plain": [
       "Matrix([\n",
       "[4.28998455200343,  4.12218566613625, 4.76258870707172, 7.40957784302032,  1.99888622630183],\n",
       "[5.62701474289532,   1.5481830540052, 2.27474798415537, 8.85581581796674,  6.78629353588652],\n",
       "[5.33310295581208, -0.24713659783089, 2.97602724657398, 3.18191620685691,  2.76690899734821],\n",
       "[2.11347445931426,  4.37092217712413, 3.93075819615526, 5.71356338222223, 0.218287006296002],\n",
       "[7.14338536503089, 0.916701087640397, 5.65854836842021, 3.81653551935819,  1.53186885683147]])"
      ]
     },
     "execution_count": 4,
     "metadata": {},
     "output_type": "execute_result"
    }
   ],
   "source": [
    "print(\"\\nRank 3 Approximation of Matrix A:\")\n",
    "sp.Matrix(rank3approximation)"
   ]
  },
  {
   "cell_type": "code",
   "execution_count": null,
   "id": "2df5247d-f7e4-4c3c-9f06-28da02f12807",
   "metadata": {},
   "outputs": [],
   "source": []
  }
 ],
 "metadata": {
  "kernelspec": {
   "display_name": "Python 3 (ipykernel)",
   "language": "python",
   "name": "python3"
  },
  "language_info": {
   "codemirror_mode": {
    "name": "ipython",
    "version": 3
   },
   "file_extension": ".py",
   "mimetype": "text/x-python",
   "name": "python",
   "nbconvert_exporter": "python",
   "pygments_lexer": "ipython3",
   "version": "3.11.7"
  }
 },
 "nbformat": 4,
 "nbformat_minor": 5
}
